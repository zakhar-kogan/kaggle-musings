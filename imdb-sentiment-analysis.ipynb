{
 "cells": [
  {
   "cell_type": "code",
   "execution_count": 1,
   "id": "7cd9a61b",
   "metadata": {
    "_cell_guid": "b1076dfc-b9ad-4769-8c92-a6c4dae69d19",
    "_uuid": "8f2839f25d086af736a60e9eeb907d3b93b6e0e5",
    "execution": {
     "iopub.execute_input": "2023-01-08T09:21:39.451665Z",
     "iopub.status.busy": "2023-01-08T09:21:39.450873Z",
     "iopub.status.idle": "2023-01-08T09:21:39.471822Z",
     "shell.execute_reply": "2023-01-08T09:21:39.470634Z"
    },
    "papermill": {
     "duration": 0.034757,
     "end_time": "2023-01-08T09:21:39.474356",
     "exception": false,
     "start_time": "2023-01-08T09:21:39.439599",
     "status": "completed"
    },
    "tags": []
   },
   "outputs": [
    {
     "name": "stdout",
     "output_type": "stream",
     "text": [
      "/kaggle/input/imdb-dataset-of-50k-movie-reviews/IMDB Dataset.csv\n"
     ]
    }
   ],
   "source": [
    "# This Python 3 environment comes with many helpful analytics libraries installed\n",
    "# It is defined by the kaggle/python Docker image: https://github.com/kaggle/docker-python\n",
    "# For example, here's several helpful packages to load\n",
    "\n",
    "import numpy as np # linear algebra\n",
    "import pandas as pd # data processing, CSV file I/O (e.g. pd.read_csv)\n",
    "\n",
    "# Input data files are available in the read-only \"../input/\" directory\n",
    "# For example, running this (by clicking run or pressing Shift+Enter) will list all files under the input directory\n",
    "\n",
    "import os\n",
    "for dirname, _, filenames in os.walk('/kaggle/input'):\n",
    "    for filename in filenames:\n",
    "        print(os.path.join(dirname, filename))\n",
    "\n",
    "# You can write up to 20GB to the current directory (/kaggle/working/) that gets preserved as output when you create a version using \"Save & Run All\" \n",
    "# You can also write temporary files to /kaggle/temp/, but they won't be saved outside of the current session"
   ]
  },
  {
   "cell_type": "markdown",
   "id": "14f2354d",
   "metadata": {
    "papermill": {
     "duration": 0.007985,
     "end_time": "2023-01-08T09:21:39.490926",
     "exception": false,
     "start_time": "2023-01-08T09:21:39.482941",
     "status": "completed"
    },
    "tags": []
   },
   "source": [
    "# Sentiment analysis of the IMDB dataset\n",
    "\n",
    "I've decided to use some of the basic methods and compare them, namely:\n",
    "* Several Logistic regression solvers\n",
    "* K-nearest neighbors\n",
    "* Naive Bayes\n",
    "* Extreme gradient boosting"
   ]
  },
  {
   "cell_type": "markdown",
   "id": "0d45dd5d",
   "metadata": {
    "papermill": {
     "duration": 0.007866,
     "end_time": "2023-01-08T09:21:39.507719",
     "exception": false,
     "start_time": "2023-01-08T09:21:39.499853",
     "status": "completed"
    },
    "tags": []
   },
   "source": [
    "# Importing and preparing the dataset"
   ]
  },
  {
   "cell_type": "code",
   "execution_count": 2,
   "id": "0d64c0ca",
   "metadata": {
    "execution": {
     "iopub.execute_input": "2023-01-08T09:21:39.526034Z",
     "iopub.status.busy": "2023-01-08T09:21:39.525625Z",
     "iopub.status.idle": "2023-01-08T09:21:40.585412Z",
     "shell.execute_reply": "2023-01-08T09:21:40.584182Z"
    },
    "papermill": {
     "duration": 1.072351,
     "end_time": "2023-01-08T09:21:40.588322",
     "exception": false,
     "start_time": "2023-01-08T09:21:39.515971",
     "status": "completed"
    },
    "tags": []
   },
   "outputs": [],
   "source": [
    "from sklearn.feature_extraction.text import CountVectorizer\n",
    "from sklearn.linear_model import LogisticRegression"
   ]
  },
  {
   "cell_type": "code",
   "execution_count": 3,
   "id": "b55b4575",
   "metadata": {
    "execution": {
     "iopub.execute_input": "2023-01-08T09:21:40.607099Z",
     "iopub.status.busy": "2023-01-08T09:21:40.606677Z",
     "iopub.status.idle": "2023-01-08T09:21:42.245187Z",
     "shell.execute_reply": "2023-01-08T09:21:42.243926Z"
    },
    "papermill": {
     "duration": 1.65113,
     "end_time": "2023-01-08T09:21:42.247974",
     "exception": false,
     "start_time": "2023-01-08T09:21:40.596844",
     "status": "completed"
    },
    "tags": []
   },
   "outputs": [],
   "source": [
    "# Load the dataset\n",
    "df = pd.read_csv('/kaggle/input/imdb-dataset-of-50k-movie-reviews/IMDB Dataset.csv')"
   ]
  },
  {
   "cell_type": "code",
   "execution_count": 4,
   "id": "2ffc91d5",
   "metadata": {
    "execution": {
     "iopub.execute_input": "2023-01-08T09:21:42.267934Z",
     "iopub.status.busy": "2023-01-08T09:21:42.267514Z",
     "iopub.status.idle": "2023-01-08T09:21:42.272626Z",
     "shell.execute_reply": "2023-01-08T09:21:42.271504Z"
    },
    "papermill": {
     "duration": 0.017134,
     "end_time": "2023-01-08T09:21:42.274932",
     "exception": false,
     "start_time": "2023-01-08T09:21:42.257798",
     "status": "completed"
    },
    "tags": []
   },
   "outputs": [],
   "source": [
    "# Split the dataset into train and test sets\n",
    "train_df = df[:24499]\n",
    "test_df = df[24499:]"
   ]
  },
  {
   "cell_type": "code",
   "execution_count": 5,
   "id": "bcc94a71",
   "metadata": {
    "execution": {
     "iopub.execute_input": "2023-01-08T09:21:42.293211Z",
     "iopub.status.busy": "2023-01-08T09:21:42.292817Z",
     "iopub.status.idle": "2023-01-08T09:21:42.303218Z",
     "shell.execute_reply": "2023-01-08T09:21:42.302436Z"
    },
    "papermill": {
     "duration": 0.022034,
     "end_time": "2023-01-08T09:21:42.305188",
     "exception": false,
     "start_time": "2023-01-08T09:21:42.283154",
     "status": "completed"
    },
    "tags": []
   },
   "outputs": [],
   "source": [
    "# Extract the reviews and labels\n",
    "X_train = train_df['review'].values\n",
    "y_train = train_df['sentiment'].values\n",
    "X_test = test_df['review'].values\n",
    "y_test = test_df['sentiment'].values"
   ]
  },
  {
   "cell_type": "markdown",
   "id": "dc472bc9",
   "metadata": {
    "papermill": {
     "duration": 0.007734,
     "end_time": "2023-01-08T09:21:42.321198",
     "exception": false,
     "start_time": "2023-01-08T09:21:42.313464",
     "status": "completed"
    },
    "tags": []
   },
   "source": [
    "# Logistic regression\n",
    "\n",
    "![](https://miro.medium.com/max/1400/1*dm6ZaX5fuSmuVvM4Ds-vcg.jpeg)"
   ]
  },
  {
   "cell_type": "code",
   "execution_count": 6,
   "id": "8a077841",
   "metadata": {
    "execution": {
     "iopub.execute_input": "2023-01-08T09:21:42.339795Z",
     "iopub.status.busy": "2023-01-08T09:21:42.338750Z",
     "iopub.status.idle": "2023-01-08T09:21:51.513606Z",
     "shell.execute_reply": "2023-01-08T09:21:51.512537Z"
    },
    "papermill": {
     "duration": 9.187409,
     "end_time": "2023-01-08T09:21:51.516565",
     "exception": false,
     "start_time": "2023-01-08T09:21:42.329156",
     "status": "completed"
    },
    "tags": []
   },
   "outputs": [],
   "source": [
    "# Convert the reviews to a bag-of-words representation\n",
    "vectorizer = CountVectorizer()\n",
    "X_train_vectors = vectorizer.fit_transform(X_train)\n",
    "X_test_vectors = vectorizer.transform(X_test)"
   ]
  },
  {
   "cell_type": "markdown",
   "id": "77ebecac",
   "metadata": {
    "papermill": {
     "duration": 0.007998,
     "end_time": "2023-01-08T09:21:51.532832",
     "exception": false,
     "start_time": "2023-01-08T09:21:51.524834",
     "status": "completed"
    },
    "tags": []
   },
   "source": [
    "## Different solvers"
   ]
  },
  {
   "cell_type": "code",
   "execution_count": null,
   "id": "362ee588",
   "metadata": {
    "execution": {
     "iopub.execute_input": "2023-01-08T08:28:01.096544Z",
     "iopub.status.busy": "2023-01-08T08:28:01.096165Z",
     "iopub.status.idle": "2023-01-08T08:29:20.744622Z",
     "shell.execute_reply": "2023-01-08T08:29:20.743749Z",
     "shell.execute_reply.started": "2023-01-08T08:28:01.096510Z"
    },
    "papermill": {
     "duration": null,
     "end_time": null,
     "exception": false,
     "start_time": "2023-01-08T09:21:51.541189",
     "status": "running"
    },
    "tags": []
   },
   "outputs": [],
   "source": [
    "# Fit a logistic regression model to the training data\n",
    "ncg_model = LogisticRegression(max_iter=300, solver='newton-cg')\n",
    "default_model = LogisticRegression(max_iter=300, solver='liblinear')\n",
    "sag_model = LogisticRegression(max_iter=300, solver='sag')\n",
    "saga_model = LogisticRegression(max_iter=300, solver='newton-cg')\n",
    "\n",
    "ncg_model.fit(X_train_vectors, y_train)\n",
    "default_model.fit(X_train_vectors, y_train)\n",
    "sag_model.fit(X_train_vectors, y_train)\n",
    "saga_model.fit(X_train_vectors, y_train)"
   ]
  },
  {
   "cell_type": "code",
   "execution_count": null,
   "id": "f0df6d30",
   "metadata": {
    "execution": {
     "iopub.execute_input": "2023-01-08T08:29:45.496170Z",
     "iopub.status.busy": "2023-01-08T08:29:45.495778Z",
     "iopub.status.idle": "2023-01-08T08:29:45.683121Z",
     "shell.execute_reply": "2023-01-08T08:29:45.681553Z",
     "shell.execute_reply.started": "2023-01-08T08:29:45.496138Z"
    },
    "papermill": {
     "duration": null,
     "end_time": null,
     "exception": null,
     "start_time": null,
     "status": "pending"
    },
    "tags": []
   },
   "outputs": [],
   "source": [
    "# Evaluate the model on the test data\n",
    "ncg_accuracy = ncg_model.score(X_test_vectors, y_test)\n",
    "def_accuracy = default_model.score(X_test_vectors, y_test)\n",
    "sag_accuracy = sag_model.score(X_test_vectors, y_test)\n",
    "saga_accuracy = saga_model.score(X_test_vectors, y_test)\n",
    "print(f'Newton-CG accuracy: {ncg_accuracy:.3f}')\n",
    "print(f'LibLinear accuracy: {def_accuracy:.3f}')\n",
    "print(f'SAG accuracy: {sag_accuracy:.3f}')\n",
    "print(f'SAGA accuracy: {saga_accuracy:.3f}')"
   ]
  },
  {
   "cell_type": "markdown",
   "id": "58177ff8",
   "metadata": {
    "papermill": {
     "duration": null,
     "end_time": null,
     "exception": null,
     "start_time": null,
     "status": "pending"
    },
    "tags": []
   },
   "source": [
    "# KNN\n",
    "\n",
    "![](https://miro.medium.com/max/1400/0*34SajbTO2C5Lvigs.png)"
   ]
  },
  {
   "cell_type": "code",
   "execution_count": null,
   "id": "9a967879",
   "metadata": {
    "execution": {
     "iopub.execute_input": "2023-01-08T08:08:08.807229Z",
     "iopub.status.busy": "2023-01-08T08:08:08.806871Z",
     "iopub.status.idle": "2023-01-08T08:08:08.812454Z",
     "shell.execute_reply": "2023-01-08T08:08:08.811536Z",
     "shell.execute_reply.started": "2023-01-08T08:08:08.807196Z"
    },
    "papermill": {
     "duration": null,
     "end_time": null,
     "exception": null,
     "start_time": null,
     "status": "pending"
    },
    "tags": []
   },
   "outputs": [],
   "source": [
    "from sklearn.feature_extraction.text import TfidfVectorizer\n",
    "from sklearn.neighbors import KNeighborsClassifier"
   ]
  },
  {
   "cell_type": "code",
   "execution_count": null,
   "id": "981072d5",
   "metadata": {
    "execution": {
     "iopub.execute_input": "2023-01-08T08:08:08.816653Z",
     "iopub.status.busy": "2023-01-08T08:08:08.816327Z",
     "iopub.status.idle": "2023-01-08T08:08:16.263772Z",
     "shell.execute_reply": "2023-01-08T08:08:16.262734Z",
     "shell.execute_reply.started": "2023-01-08T08:08:08.816621Z"
    },
    "papermill": {
     "duration": null,
     "end_time": null,
     "exception": null,
     "start_time": null,
     "status": "pending"
    },
    "tags": []
   },
   "outputs": [],
   "source": [
    "# Convert the reviews to a tf-idf representation\n",
    "knn_vectorizer = TfidfVectorizer()\n",
    "knn_X_train_vectors = vectorizer.fit_transform(X_train)\n",
    "knn_X_test_vectors = vectorizer.transform(X_test)\n"
   ]
  },
  {
   "cell_type": "code",
   "execution_count": null,
   "id": "8fe41e6b",
   "metadata": {
    "execution": {
     "iopub.execute_input": "2023-01-08T08:31:49.377731Z",
     "iopub.status.busy": "2023-01-08T08:31:49.377369Z",
     "iopub.status.idle": "2023-01-08T08:31:49.409173Z",
     "shell.execute_reply": "2023-01-08T08:31:49.407429Z",
     "shell.execute_reply.started": "2023-01-08T08:31:49.377700Z"
    },
    "papermill": {
     "duration": null,
     "end_time": null,
     "exception": null,
     "start_time": null,
     "status": "pending"
    },
    "tags": []
   },
   "outputs": [],
   "source": [
    "# Fit a KNN model to the training data\n",
    "knn_model = KNeighborsClassifier()\n",
    "knn_model.fit(knn_X_train_vectors, y_train)"
   ]
  },
  {
   "cell_type": "code",
   "execution_count": null,
   "id": "f5fc3b7a",
   "metadata": {
    "execution": {
     "iopub.execute_input": "2023-01-08T08:31:52.142650Z",
     "iopub.status.busy": "2023-01-08T08:31:52.142060Z",
     "iopub.status.idle": "2023-01-08T08:33:29.892870Z",
     "shell.execute_reply": "2023-01-08T08:33:29.891208Z",
     "shell.execute_reply.started": "2023-01-08T08:31:52.142620Z"
    },
    "papermill": {
     "duration": null,
     "end_time": null,
     "exception": null,
     "start_time": null,
     "status": "pending"
    },
    "tags": []
   },
   "outputs": [],
   "source": [
    "# Evaluate the model on the test data\n",
    "knn_accuracy = knn_model.score(knn_X_test_vectors, y_test)\n",
    "print(f'Test accuracy: {knn_accuracy:.2f}')"
   ]
  },
  {
   "cell_type": "markdown",
   "id": "255aca2b",
   "metadata": {
    "papermill": {
     "duration": null,
     "end_time": null,
     "exception": null,
     "start_time": null,
     "status": "pending"
    },
    "tags": []
   },
   "source": [
    "# Naive Bayes\n",
    "\n",
    "![](https://miro.medium.com/max/1200/1*39U1Ln3tSdFqsfQy6ndxOA.png)"
   ]
  },
  {
   "cell_type": "code",
   "execution_count": null,
   "id": "d8e76b03",
   "metadata": {
    "execution": {
     "iopub.execute_input": "2023-01-08T08:09:54.161958Z",
     "iopub.status.busy": "2023-01-08T08:09:54.161686Z",
     "iopub.status.idle": "2023-01-08T08:09:54.166039Z",
     "shell.execute_reply": "2023-01-08T08:09:54.165382Z",
     "shell.execute_reply.started": "2023-01-08T08:09:54.161933Z"
    },
    "papermill": {
     "duration": null,
     "end_time": null,
     "exception": null,
     "start_time": null,
     "status": "pending"
    },
    "tags": []
   },
   "outputs": [],
   "source": [
    "from sklearn.naive_bayes import MultinomialNB"
   ]
  },
  {
   "cell_type": "code",
   "execution_count": null,
   "id": "f06bbb91",
   "metadata": {
    "execution": {
     "iopub.execute_input": "2023-01-08T08:09:54.167387Z",
     "iopub.status.busy": "2023-01-08T08:09:54.167082Z",
     "iopub.status.idle": "2023-01-08T08:09:54.257532Z",
     "shell.execute_reply": "2023-01-08T08:09:54.256429Z",
     "shell.execute_reply.started": "2023-01-08T08:09:54.167361Z"
    },
    "papermill": {
     "duration": null,
     "end_time": null,
     "exception": null,
     "start_time": null,
     "status": "pending"
    },
    "tags": []
   },
   "outputs": [],
   "source": [
    "# Using the BoW vectors from the LR model\n",
    "\n",
    "# Fit a naive Bayes model to the training data\n",
    "nb_model = MultinomialNB()\n",
    "nb_model.fit(X_train_vectors, y_train)"
   ]
  },
  {
   "cell_type": "code",
   "execution_count": null,
   "id": "6a1e2903",
   "metadata": {
    "execution": {
     "iopub.execute_input": "2023-01-08T08:09:54.259584Z",
     "iopub.status.busy": "2023-01-08T08:09:54.258964Z",
     "iopub.status.idle": "2023-01-08T08:09:54.328376Z",
     "shell.execute_reply": "2023-01-08T08:09:54.326922Z",
     "shell.execute_reply.started": "2023-01-08T08:09:54.259544Z"
    },
    "papermill": {
     "duration": null,
     "end_time": null,
     "exception": null,
     "start_time": null,
     "status": "pending"
    },
    "tags": []
   },
   "outputs": [],
   "source": [
    "# Evaluate the model on the test data\n",
    "nb_accuracy = nb_model.score(X_test_vectors, y_test)\n",
    "print(f'Test accuracy: {nb_accuracy:.2f}')"
   ]
  },
  {
   "cell_type": "markdown",
   "id": "021abfdd",
   "metadata": {
    "papermill": {
     "duration": null,
     "end_time": null,
     "exception": null,
     "start_time": null,
     "status": "pending"
    },
    "tags": []
   },
   "source": [
    "# XGBoost\n",
    "\n",
    "![](https://www.researchgate.net/publication/345327934/figure/fig3/AS:1022810793209856@1620868504478/Flow-chart-of-XGBoost.png)"
   ]
  },
  {
   "cell_type": "code",
   "execution_count": null,
   "id": "5c0ea29d",
   "metadata": {
    "execution": {
     "iopub.execute_input": "2023-01-08T08:12:56.156572Z",
     "iopub.status.busy": "2023-01-08T08:12:56.156198Z",
     "iopub.status.idle": "2023-01-08T08:12:56.161505Z",
     "shell.execute_reply": "2023-01-08T08:12:56.160433Z",
     "shell.execute_reply.started": "2023-01-08T08:12:56.156542Z"
    },
    "papermill": {
     "duration": null,
     "end_time": null,
     "exception": null,
     "start_time": null,
     "status": "pending"
    },
    "tags": []
   },
   "outputs": [],
   "source": [
    "import xgboost as xgb"
   ]
  },
  {
   "cell_type": "code",
   "execution_count": null,
   "id": "7b7534e3",
   "metadata": {
    "execution": {
     "iopub.execute_input": "2023-01-08T08:17:42.694056Z",
     "iopub.status.busy": "2023-01-08T08:17:42.693660Z",
     "iopub.status.idle": "2023-01-08T08:17:42.701551Z",
     "shell.execute_reply": "2023-01-08T08:17:42.700327Z",
     "shell.execute_reply.started": "2023-01-08T08:17:42.694018Z"
    },
    "papermill": {
     "duration": null,
     "end_time": null,
     "exception": null,
     "start_time": null,
     "status": "pending"
    },
    "tags": []
   },
   "outputs": [],
   "source": [
    "y_train"
   ]
  },
  {
   "cell_type": "code",
   "execution_count": null,
   "id": "eeaf8377",
   "metadata": {
    "execution": {
     "iopub.execute_input": "2023-01-08T08:22:49.437761Z",
     "iopub.status.busy": "2023-01-08T08:22:49.437389Z",
     "iopub.status.idle": "2023-01-08T08:22:49.449214Z",
     "shell.execute_reply": "2023-01-08T08:22:49.447714Z",
     "shell.execute_reply.started": "2023-01-08T08:22:49.437732Z"
    },
    "papermill": {
     "duration": null,
     "end_time": null,
     "exception": null,
     "start_time": null,
     "status": "pending"
    },
    "tags": []
   },
   "outputs": [],
   "source": [
    "# Converting the data to vector representations\n",
    "xgb_y_train = np.where(y_train == 'positive', 1, 0)\n",
    "xgb_y_train\n",
    "xgb_y_test = np.where(y_test == 'positive', 1, 0)\n",
    "xgb_y_test"
   ]
  },
  {
   "cell_type": "code",
   "execution_count": null,
   "id": "fd3ac0a9",
   "metadata": {
    "execution": {
     "iopub.execute_input": "2023-01-08T08:20:47.844602Z",
     "iopub.status.busy": "2023-01-08T08:20:47.843393Z",
     "iopub.status.idle": "2023-01-08T08:21:01.869889Z",
     "shell.execute_reply": "2023-01-08T08:21:01.869318Z",
     "shell.execute_reply.started": "2023-01-08T08:20:47.844547Z"
    },
    "papermill": {
     "duration": null,
     "end_time": null,
     "exception": null,
     "start_time": null,
     "status": "pending"
    },
    "tags": []
   },
   "outputs": [],
   "source": [
    "# Define the XGBoost classifier\n",
    "classifier = xgb.XGBClassifier()\n",
    "\n",
    "# Fit the classifier to the training data\n",
    "classifier.fit(X_train_vectors, xgb_y_train)"
   ]
  },
  {
   "cell_type": "code",
   "execution_count": null,
   "id": "9d7b7449",
   "metadata": {
    "execution": {
     "iopub.execute_input": "2023-01-08T08:25:38.957755Z",
     "iopub.status.busy": "2023-01-08T08:25:38.957393Z",
     "iopub.status.idle": "2023-01-08T08:25:39.049706Z",
     "shell.execute_reply": "2023-01-08T08:25:39.048370Z",
     "shell.execute_reply.started": "2023-01-08T08:25:38.957726Z"
    },
    "papermill": {
     "duration": null,
     "end_time": null,
     "exception": null,
     "start_time": null,
     "status": "pending"
    },
    "tags": []
   },
   "outputs": [],
   "source": [
    "xgb_accuracy = classifier.score(X_test_vectors, xgb_y_test)"
   ]
  },
  {
   "cell_type": "code",
   "execution_count": null,
   "id": "a3e24501",
   "metadata": {
    "execution": {
     "iopub.execute_input": "2023-01-08T08:25:43.526243Z",
     "iopub.status.busy": "2023-01-08T08:25:43.525742Z",
     "iopub.status.idle": "2023-01-08T08:25:43.532517Z",
     "shell.execute_reply": "2023-01-08T08:25:43.531542Z",
     "shell.execute_reply.started": "2023-01-08T08:25:43.526186Z"
    },
    "papermill": {
     "duration": null,
     "end_time": null,
     "exception": null,
     "start_time": null,
     "status": "pending"
    },
    "tags": []
   },
   "outputs": [],
   "source": [
    "print(f'Test accuracy: {xgb_accuracy:.2f}')"
   ]
  },
  {
   "cell_type": "markdown",
   "id": "0d537946",
   "metadata": {
    "papermill": {
     "duration": null,
     "end_time": null,
     "exception": null,
     "start_time": null,
     "status": "pending"
    },
    "tags": []
   },
   "source": [
    "# Visualizing the results"
   ]
  },
  {
   "cell_type": "code",
   "execution_count": null,
   "id": "e5142070",
   "metadata": {
    "execution": {
     "iopub.execute_input": "2023-01-08T08:36:40.327027Z",
     "iopub.status.busy": "2023-01-08T08:36:40.326358Z",
     "iopub.status.idle": "2023-01-08T08:36:40.332907Z",
     "shell.execute_reply": "2023-01-08T08:36:40.331054Z",
     "shell.execute_reply.started": "2023-01-08T08:36:40.326988Z"
    },
    "papermill": {
     "duration": null,
     "end_time": null,
     "exception": null,
     "start_time": null,
     "status": "pending"
    },
    "tags": []
   },
   "outputs": [],
   "source": [
    "import seaborn as sns, pandas as pd"
   ]
  },
  {
   "cell_type": "code",
   "execution_count": null,
   "id": "299d044d",
   "metadata": {
    "execution": {
     "iopub.execute_input": "2023-01-08T08:39:09.670442Z",
     "iopub.status.busy": "2023-01-08T08:39:09.670001Z",
     "iopub.status.idle": "2023-01-08T08:39:09.677177Z",
     "shell.execute_reply": "2023-01-08T08:39:09.676036Z",
     "shell.execute_reply.started": "2023-01-08T08:39:09.670408Z"
    },
    "papermill": {
     "duration": null,
     "end_time": null,
     "exception": null,
     "start_time": null,
     "status": "pending"
    },
    "tags": []
   },
   "outputs": [],
   "source": [
    "results = {\n",
    "    'NCG LR': ncg_accuracy,\n",
    "    'Default LR': def_accuracy,\n",
    "    'SAG LR': sag_accuracy,\n",
    "    'SAGA LR': saga_accuracy,\n",
    "    'KNN Model': knn_accuracy,\n",
    "    'Naive Bayes': nb_accuracy,\n",
    "    'XGBoost': xgb_accuracy\n",
    "}\n",
    "indexes = results.keys()"
   ]
  },
  {
   "cell_type": "code",
   "execution_count": null,
   "id": "a9b6316e",
   "metadata": {
    "execution": {
     "iopub.execute_input": "2023-01-08T08:39:57.228784Z",
     "iopub.status.busy": "2023-01-08T08:39:57.228418Z",
     "iopub.status.idle": "2023-01-08T08:39:57.235087Z",
     "shell.execute_reply": "2023-01-08T08:39:57.233527Z",
     "shell.execute_reply.started": "2023-01-08T08:39:57.228755Z"
    },
    "papermill": {
     "duration": null,
     "end_time": null,
     "exception": null,
     "start_time": null,
     "status": "pending"
    },
    "tags": []
   },
   "outputs": [],
   "source": [
    "results_plot = pd.DataFrame.from_dict(results, orient='index', columns=['score'])"
   ]
  },
  {
   "cell_type": "code",
   "execution_count": null,
   "id": "32f24028",
   "metadata": {
    "execution": {
     "iopub.execute_input": "2023-01-08T08:43:03.408766Z",
     "iopub.status.busy": "2023-01-08T08:43:03.408416Z",
     "iopub.status.idle": "2023-01-08T08:43:03.419066Z",
     "shell.execute_reply": "2023-01-08T08:43:03.417444Z",
     "shell.execute_reply.started": "2023-01-08T08:43:03.408737Z"
    },
    "papermill": {
     "duration": null,
     "end_time": null,
     "exception": null,
     "start_time": null,
     "status": "pending"
    },
    "tags": []
   },
   "outputs": [],
   "source": [
    "results_plot.sort_values(by='score',ascending=False)"
   ]
  },
  {
   "cell_type": "code",
   "execution_count": null,
   "id": "e2916ec3",
   "metadata": {
    "execution": {
     "iopub.execute_input": "2023-01-08T08:48:31.553882Z",
     "iopub.status.busy": "2023-01-08T08:48:31.553507Z",
     "iopub.status.idle": "2023-01-08T08:48:31.563026Z",
     "shell.execute_reply": "2023-01-08T08:48:31.561338Z",
     "shell.execute_reply.started": "2023-01-08T08:48:31.553851Z"
    },
    "papermill": {
     "duration": null,
     "end_time": null,
     "exception": null,
     "start_time": null,
     "status": "pending"
    },
    "tags": []
   },
   "outputs": [],
   "source": [
    "# define the color palette of different colors\n",
    "pal = sns.color_palette(\"Greens_d\", len(results_plot))"
   ]
  },
  {
   "cell_type": "code",
   "execution_count": null,
   "id": "c322f756",
   "metadata": {
    "execution": {
     "iopub.execute_input": "2023-01-08T08:55:00.100999Z",
     "iopub.status.busy": "2023-01-08T08:55:00.100566Z",
     "iopub.status.idle": "2023-01-08T08:55:00.288577Z",
     "shell.execute_reply": "2023-01-08T08:55:00.287413Z",
     "shell.execute_reply.started": "2023-01-08T08:55:00.100960Z"
    },
    "papermill": {
     "duration": null,
     "end_time": null,
     "exception": null,
     "start_time": null,
     "status": "pending"
    },
    "tags": []
   },
   "outputs": [],
   "source": [
    "plot = sns.barplot(data=results_plot.sort_values(by='score',ascending=False), \n",
    "            x='score', \n",
    "            y=results_plot.index,\n",
    "            palette=pal)\n",
    "\n",
    "plot.bar_label(plot.containers[0],\n",
    "               label_type='center', \n",
    "               color='snow', \n",
    "               fmt='%.3f')"
   ]
  },
  {
   "cell_type": "markdown",
   "id": "6b2185e5",
   "metadata": {
    "papermill": {
     "duration": null,
     "end_time": null,
     "exception": null,
     "start_time": null,
     "status": "pending"
    },
    "tags": []
   },
   "source": [
    "# Conclusion\n",
    "\n",
    "It seems like logistic regression works best for this classification task, with slight differences in accuracy scores."
   ]
  },
  {
   "cell_type": "code",
   "execution_count": null,
   "id": "ce330d99",
   "metadata": {
    "papermill": {
     "duration": null,
     "end_time": null,
     "exception": null,
     "start_time": null,
     "status": "pending"
    },
    "tags": []
   },
   "outputs": [],
   "source": []
  }
 ],
 "metadata": {
  "kernelspec": {
   "display_name": "Python 3",
   "language": "python",
   "name": "python3"
  },
  "language_info": {
   "codemirror_mode": {
    "name": "ipython",
    "version": 3
   },
   "file_extension": ".py",
   "mimetype": "text/x-python",
   "name": "python",
   "nbconvert_exporter": "python",
   "pygments_lexer": "ipython3",
   "version": "3.6.4"
  },
  "papermill": {
   "default_parameters": {},
   "duration": null,
   "end_time": null,
   "environment_variables": {},
   "exception": null,
   "input_path": "__notebook__.ipynb",
   "output_path": "__notebook__.ipynb",
   "parameters": {},
   "start_time": "2023-01-08T09:21:30.210248",
   "version": "2.3.4"
  }
 },
 "nbformat": 4,
 "nbformat_minor": 5
}